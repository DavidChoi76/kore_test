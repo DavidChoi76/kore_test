{
 "cells": [
  {
   "cell_type": "markdown",
   "id": "7cad4c54",
   "metadata": {
    "_cell_guid": "b1076dfc-b9ad-4769-8c92-a6c4dae69d19",
    "_uuid": "8f2839f25d086af736a60e9eeb907d3b93b6e0e5",
    "papermill": {
     "duration": 0.009744,
     "end_time": "2022-04-12T18:22:05.845479",
     "exception": false,
     "start_time": "2022-04-12T18:22:05.835735",
     "status": "completed"
    },
    "tags": []
   },
   "source": [
    "# Welcome back Commander!\n",
    "\n",
    "This is part 4, see parts [1](https://www.kaggle.com/bovard/kore-intro-i-the-basics) (basic info), [2](https://www.kaggle.com/bovard/kore-intro-ii-mining-kore) (mining), and [3](https://www.kaggle.com/bovard/kore-intro-iii-expanding-the-empire) (expanding) if interested!\n",
    "\n",
    "We will take a look at combat here!"
   ]
  },
  {
   "cell_type": "code",
   "execution_count": null,
   "id": "014a2ce5",
   "metadata": {
    "execution": {
     "iopub.execute_input": "2022-04-12T18:22:16.837234Z",
     "iopub.status.busy": "2022-04-12T18:22:16.836623Z",
     "iopub.status.idle": "2022-04-12T18:22:16.941978Z",
     "shell.execute_reply": "2022-04-12T18:22:16.941471Z",
     "shell.execute_reply.started": "2022-03-18T21:10:34.309482Z"
    },
    "papermill": {
     "duration": 0.116598,
     "end_time": "2022-04-12T18:22:16.942126",
     "exception": false,
     "start_time": "2022-04-12T18:22:16.825528",
     "status": "completed"
    },
    "tags": []
   },
   "outputs": [],
   "source": [
    "from kaggle_environments import make\n",
    "env = make(\"kore_fleets\", debug=True)\n",
    "print(env.name, env.version)"
   ]
  },
  {
   "cell_type": "markdown",
   "id": "63acba48",
   "metadata": {
    "papermill": {
     "duration": 0.00861,
     "end_time": "2022-04-12T18:22:16.960137",
     "exception": false,
     "start_time": "2022-04-12T18:22:16.951527",
     "status": "completed"
    },
    "tags": []
   },
   "source": [
    "## Fleet to fleet combat\n",
    "\n",
    "When two fleets move to occupy the same tile or move orthogonally adjacent to an enemy fleet they do damage to eachother!\n",
    "\n",
    "#### Same tile\n",
    "The largest fleet (in ship count) wins, surviving with `intial_ships - second_largest_fleet_ships` ships left. For example, if fleets from 3 different players (1, 2, 3) enter the same tile with f1 having 100 ships, f2 having 50, and f3 having 25, f1 would survive with 100 - 50 = 50 ships. The surviving fleet, if there is one, takes the kore from all the other fleets.\n",
    "\n",
    "#### Adjacent tiles\n",
    "After a fleet moves and resolves and on-tile collisions, it does damage to all adjacent tiles equal to its ship count. For example, if two fleets of different players of sizes 100 and 50 end up adjacent, the 100 ship fleet will survive with only 50 ships left. Note that a single fleet can do damage to up to 3 other fleets if positioned correctly!\n",
    "\n",
    "Let's see it in action! With the [starter bot](https://www.kaggle.com/code/bovard/basic-python-starter-notebook)."
   ]
  },
  {
   "cell_type": "code",
   "execution_count": null,
   "id": "8810a281",
   "metadata": {
    "execution": {
     "iopub.execute_input": "2022-04-12T18:22:16.985082Z",
     "iopub.status.busy": "2022-04-12T18:22:16.984307Z",
     "iopub.status.idle": "2022-04-12T18:22:16.987345Z",
     "shell.execute_reply": "2022-04-12T18:22:16.988111Z",
     "shell.execute_reply.started": "2022-03-18T21:10:34.362624Z"
    },
    "papermill": {
     "duration": 0.01901,
     "end_time": "2022-04-12T18:22:16.988320",
     "exception": false,
     "start_time": "2022-04-12T18:22:16.969310",
     "status": "completed"
    },
    "tags": []
   },
   "outputs": [],
   "source": [
    "%%writefile starter.py\n",
    "# from https://github.com/Kaggle/kaggle-environments/blob/master/kaggle_environments/envs/kore_fleets/starter_bots/python/main.py\n",
    "   \n",
    "from kaggle_environments.envs.kore_fleets.helpers import *\n",
    "from random import randint\n",
    "\n",
    "def agent(obs, config):\n",
    "    board = Board(obs, config)\n",
    "    me=board.current_player\n",
    "\n",
    "    me = board.current_player\n",
    "    turn = board.step\n",
    "    spawn_cost = board.configuration.spawn_cost\n",
    "    kore_left = me.kore\n",
    "\n",
    "    for shipyard in me.shipyards:\n",
    "        if shipyard.ship_count > 10:\n",
    "            direction = Direction.from_index(turn % 4)\n",
    "            action = ShipyardAction.launch_fleet_with_flight_plan(randint(2,3), direction.to_char())\n",
    "            shipyard.next_action = action\n",
    "        elif kore_left > spawn_cost * shipyard.max_spawn:\n",
    "            action = ShipyardAction.spawn_ships(shipyard.max_spawn)\n",
    "            shipyard.next_action = action\n",
    "            kore_left -= spawn_cost * shipyard.max_spawn\n",
    "        elif kore_left > spawn_cost:\n",
    "            action = ShipyardAction.spawn_ships(1)\n",
    "            shipyard.next_action = action\n",
    "            kore_left -= spawn_cost\n",
    "\n",
    "    return me.next_actions"
   ]
  },
  {
   "cell_type": "code",
   "execution_count": null,
   "id": "1d1870de",
   "metadata": {
    "execution": {
     "iopub.execute_input": "2022-04-12T18:22:17.030915Z",
     "iopub.status.busy": "2022-04-12T18:22:17.026482Z",
     "iopub.status.idle": "2022-04-12T18:22:30.012252Z",
     "shell.execute_reply": "2022-04-12T18:22:30.012714Z",
     "shell.execute_reply.started": "2022-03-18T20:55:06.408353Z"
    },
    "papermill": {
     "duration": 13.014353,
     "end_time": "2022-04-12T18:22:30.012952",
     "exception": false,
     "start_time": "2022-04-12T18:22:16.998599",
     "status": "completed"
    },
    "tags": []
   },
   "outputs": [],
   "source": [
    "starter_agent_path = \"starter.py\"\n",
    "env.run([starter_agent_path, starter_agent_path, starter_agent_path, starter_agent_path])\n",
    "env.render(mode=\"ipython\", width=1000, height=800)"
   ]
  },
  {
   "cell_type": "markdown",
   "id": "d8e6b077",
   "metadata": {
    "papermill": {
     "duration": 0.335044,
     "end_time": "2022-04-12T18:22:30.694910",
     "exception": false,
     "start_time": "2022-04-12T18:22:30.359866",
     "status": "completed"
    },
    "tags": []
   },
   "source": [
    "As you can see above, there is a lot of collisions and adjacent damage."
   ]
  },
  {
   "cell_type": "markdown",
   "id": "b98b9a81",
   "metadata": {
    "papermill": {
     "duration": 0.335742,
     "end_time": "2022-04-12T18:22:31.366840",
     "exception": false,
     "start_time": "2022-04-12T18:22:31.031098",
     "status": "completed"
    },
    "tags": []
   },
   "source": [
    "## Capturing a Shipyard\n",
    "\n",
    "In addition to collisions, you can also capture an enemy shipyard. The same mechanics are used in collision - the larger fleet wins.\n",
    "\n",
    "When you capture a shipyard the ship production rate of that shipyard is reset to 1!\n",
    "\n",
    "Let's write a bot that amasses 50 ships and attempts to take over nearby shipyards. Note that we'll change our spawn code to take advantage of a shipyards increased production rate `shipyard.max_spawn`! This will allow us to spawn up to 10 ships a turn if we hold onto the shipyard long enough"
   ]
  },
  {
   "cell_type": "code",
   "execution_count": null,
   "id": "6daecbd4",
   "metadata": {
    "execution": {
     "iopub.execute_input": "2022-04-12T18:22:32.052523Z",
     "iopub.status.busy": "2022-04-12T18:22:32.051838Z",
     "iopub.status.idle": "2022-04-12T18:22:32.061388Z",
     "shell.execute_reply": "2022-04-12T18:22:32.062071Z",
     "shell.execute_reply.started": "2022-03-18T21:17:07.735979Z"
    },
    "papermill": {
     "duration": 0.356575,
     "end_time": "2022-04-12T18:22:32.062308",
     "exception": false,
     "start_time": "2022-04-12T18:22:31.705733",
     "status": "completed"
    },
    "tags": []
   },
   "outputs": [],
   "source": [
    "%%writefile attacker.py\n",
    "# from https://github.com/Kaggle/kaggle-environments/blob/master/kaggle_environments/envs/kore_fleets/starter_bots/python/main.py\n",
    "   \n",
    "from kaggle_environments.envs.kore_fleets.helpers import *\n",
    "from random import randint\n",
    "\n",
    "def get_closest_enemy_shipyard(board, position, me):\n",
    "    min_dist = 1000000\n",
    "    enemy_shipyard = None\n",
    "    for shipyard in board.shipyards.values():\n",
    "        if shipyard.player_id == me.id:\n",
    "            continue\n",
    "        dist = position.distance_to(shipyard.position, board.configuration.size)\n",
    "        if dist < min_dist:\n",
    "            min_dist = dist\n",
    "            enemy_shipyard = shipyard\n",
    "    return enemy_shipyard\n",
    "\n",
    "\n",
    "def agent(obs, config):\n",
    "    board = Board(obs, config)\n",
    "    me=board.current_player\n",
    "\n",
    "    me = board.current_player\n",
    "    turn = board.step\n",
    "    spawn_cost = board.configuration.spawn_cost\n",
    "    kore_left = me.kore\n",
    "\n",
    "    for shipyard in me.shipyards:\n",
    "        action = None\n",
    "        if turn % 100 < 20 and shipyard.ship_count >= 50:\n",
    "            closest_enemy_shipyard = get_closest_enemy_shipyard(board, shipyard.position, me)\n",
    "            if not closest_enemy_shipyard:\n",
    "                continue\n",
    "            enemy_pos = closest_enemy_shipyard.position\n",
    "            my_pos = shipyard.position\n",
    "            flight_plan = \"N\" if enemy_pos.y > my_pos.y else \"S\"\n",
    "            flight_plan += str(abs(enemy_pos.y - my_pos.y) - 1)\n",
    "            flight_plan += \"W\" if enemy_pos.x < my_pos.x else \"E\"\n",
    "            action = ShipyardAction.launch_fleet_with_flight_plan(shipyard.ship_count, flight_plan)            \n",
    "        elif shipyard.ship_count >= 10 and turn % 7 == 0 and turn % 100 > 20 and turn % 100 < 90:\n",
    "            direction = Direction.from_index(turn % 4)\n",
    "            opposite = direction.opposite()\n",
    "            flight_plan = direction.to_char() + \"9\" + opposite.to_char()\n",
    "            action = ShipyardAction.launch_fleet_with_flight_plan(10, flight_plan)\n",
    "        elif kore_left > spawn_cost * shipyard.max_spawn:\n",
    "            action = ShipyardAction.spawn_ships(shipyard.max_spawn)\n",
    "            kore_left -= spawn_cost * shipyard.max_spawn\n",
    "        elif kore_left > spawn_cost:\n",
    "            action = ShipyardAction.spawn_ships(1)\n",
    "            kore_left -= spawn_cost\n",
    "        shipyard.next_action = action\n",
    "\n",
    "    return me.next_actions"
   ]
  },
  {
   "cell_type": "code",
   "execution_count": null,
   "id": "14916a7b",
   "metadata": {
    "execution": {
     "iopub.execute_input": "2022-04-12T18:22:32.754695Z",
     "iopub.status.busy": "2022-04-12T18:22:32.753736Z",
     "iopub.status.idle": "2022-04-12T18:22:39.548860Z",
     "shell.execute_reply": "2022-04-12T18:22:39.549409Z",
     "shell.execute_reply.started": "2022-03-18T21:17:08.089398Z"
    },
    "papermill": {
     "duration": 7.150927,
     "end_time": "2022-04-12T18:22:39.549582",
     "exception": false,
     "start_time": "2022-04-12T18:22:32.398655",
     "status": "completed"
    },
    "tags": []
   },
   "outputs": [],
   "source": [
    "starter_agent_path = \"starter.py\"\n",
    "attacker_agent_path = \"attacker.py\"\n",
    "env.run([attacker_agent_path, starter_agent_path, starter_agent_path, starter_agent_path])\n",
    "env.render(mode=\"ipython\", width=1000, height=800)"
   ]
  },
  {
   "cell_type": "markdown",
   "id": "22f18ba8",
   "metadata": {
    "papermill": {
     "duration": 0.520344,
     "end_time": "2022-04-12T18:22:40.633430",
     "exception": false,
     "start_time": "2022-04-12T18:22:40.113086",
     "status": "completed"
    },
    "tags": []
   },
   "source": [
    "### Victory! \n",
    "\n",
    "Notice the number in the bottom right hand corner of the shipyard after you take it over (which displays `shipyard.max_spawn`) resetting to 1 and slowly incrementing when you take over a shipyard.\n",
    "\n",
    "Good luck commander, and happy coding!"
   ]
  },
  {
   "cell_type": "code",
   "execution_count": null,
   "id": "07fc95b0",
   "metadata": {
    "papermill": {
     "duration": 0.521647,
     "end_time": "2022-04-12T18:22:41.679108",
     "exception": false,
     "start_time": "2022-04-12T18:22:41.157461",
     "status": "completed"
    },
    "tags": []
   },
   "outputs": [],
   "source": []
  }
 ],
 "metadata": {
  "kernelspec": {
   "display_name": "Python 3 (ipykernel)",
   "language": "python",
   "name": "python3"
  },
  "language_info": {
   "codemirror_mode": {
    "name": "ipython",
    "version": 3
   },
   "file_extension": ".py",
   "mimetype": "text/x-python",
   "name": "python",
   "nbconvert_exporter": "python",
   "pygments_lexer": "ipython3",
   "version": "3.8.13"
  },
  "papermill": {
   "default_parameters": {},
   "duration": 45.673821,
   "end_time": "2022-04-12T18:22:42.813377",
   "environment_variables": {},
   "exception": null,
   "input_path": "__notebook__.ipynb",
   "output_path": "__notebook__.ipynb",
   "parameters": {},
   "start_time": "2022-04-12T18:21:57.139556",
   "version": "2.3.3"
  }
 },
 "nbformat": 4,
 "nbformat_minor": 5
}
